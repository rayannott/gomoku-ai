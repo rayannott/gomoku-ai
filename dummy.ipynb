{
 "cells": [
  {
   "cell_type": "code",
   "execution_count": null,
   "metadata": {},
   "outputs": [],
   "source": []
  }
 ],
 "metadata": {
  "kernelspec": {
   "display_name": "Python 3.10.7 ('thevenv')",
   "language": "python",
   "name": "python3"
  },
  "language_info": {
   "name": "python",
   "version": "3.10.7"
  },
  "orig_nbformat": 4,
  "vscode": {
   "interpreter": {
    "hash": "ed53bbc5bb63d82bef993d908d40627d686f6f2593964cd5fe30071c0fd3037d"
   }
  }
 },
 "nbformat": 4,
 "nbformat_minor": 2
}
